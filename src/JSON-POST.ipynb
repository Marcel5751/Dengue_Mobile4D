{
 "cells": [
  {
   "cell_type": "code",
   "execution_count": 1,
   "metadata": {},
   "outputs": [],
   "source": [
    "import requests\n",
    "import json\n",
    "from PIL import Image\n",
    "from io import BytesIO"
   ]
  },
  {
   "cell_type": "markdown",
   "metadata": {},
   "source": [
    "## Simple POST"
   ]
  },
  {
   "cell_type": "code",
   "execution_count": 2,
   "metadata": {
    "scrolled": false
   },
   "outputs": [
    {
     "data": {
      "text/plain": [
       "{'message': 'Hey'}"
      ]
     },
     "execution_count": 2,
     "metadata": {},
     "output_type": "execute_result"
    }
   ],
   "source": [
    "respond = requests.post(\n",
    "    url='http://wettayakorn.com:5000/dengue/foo/',\n",
    "    json={'message':'Hi'},\n",
    ")\n",
    "respond.json()"
   ]
  },
  {
   "cell_type": "markdown",
   "metadata": {},
   "source": [
    "## Send location"
   ]
  },
  {
   "cell_type": "code",
   "execution_count": 3,
   "metadata": {
    "scrolled": false
   },
   "outputs": [
    {
     "data": {
      "text/plain": [
       "{'data': {'features': [{'geometry': {'coordinates': [[100.1339557, 8.34903178],\n",
       "      [100.13383891, 8.34946646],\n",
       "      [100.13377966, 8.35014656],\n",
       "      [100.13272909, 8.35042901],\n",
       "      [100.13317718, 8.35038723],\n",
       "      [100.13362527, 8.35034544]],\n",
       "     'type': 'LineString'},\n",
       "    'id': 261267836,\n",
       "    'properties': {'highway': 'unclassified', 'surface': 'unpaved'},\n",
       "    'type': 'Feature'},\n",
       "   {'geometry': {'coordinates': [[100.13627823, 8.34889247],\n",
       "      [100.13672066, 8.34897474],\n",
       "      [100.13572823, 8.34879013],\n",
       "      [100.13495427, 8.34867583]],\n",
       "     'type': 'LineString'},\n",
       "    'id': 261267900,\n",
       "    'properties': {'highway': 'track'},\n",
       "    'type': 'Feature'}],\n",
       "  'type': 'FeatureCollection'},\n",
       " 'message': 'Missing-streets found',\n",
       " 'status': 'success'}"
      ]
     },
     "execution_count": 3,
     "metadata": {},
     "output_type": "execute_result"
    }
   ],
   "source": [
    "data = {\n",
    "    \"type\": \"Feature\",\n",
    "    \"geometry\": {\n",
    "        \"type\": \"Point\",\n",
    "        \"coordinates\": [100.135, 8.351] # [longitude, latitude]\n",
    "    },\n",
    "    \"properties\": {\n",
    "        \"radius\": 300,\n",
    "    }\n",
    "}\n",
    "\n",
    "respond = requests.post(\n",
    "    url='http://wettayakorn.com:5000/dengue/get/jobs/',\n",
    "    json=data,\n",
    ")\n",
    "respond.json()"
   ]
  },
  {
   "cell_type": "markdown",
   "metadata": {},
   "source": [
    "## Send Image URLS"
   ]
  },
  {
   "cell_type": "code",
   "execution_count": 4,
   "metadata": {},
   "outputs": [
    {
     "data": {
      "text/plain": [
       "{'message': 'The images have been uploaded.', 'status': 'success'}"
      ]
     },
     "execution_count": 4,
     "metadata": {},
     "output_type": "execute_result"
    }
   ],
   "source": [
    "data = {\n",
    "    \"type\": \"Feature\",\n",
    "    \"geometry\": {\n",
    "        \"type\": \"Point\",\n",
    "        \"coordinates\": [100.135, 8.351] # [longitude, latitude]\n",
    "    },\n",
    "    \"properties\": {\n",
    "        \"image_urls\":[\n",
    "            'http://www.ludumdare.com/compo/wp-content/uploads/2013/08/python.jpg'\n",
    "        ]\n",
    "    }\n",
    "}\n",
    "\n",
    "respond = requests.post(\n",
    "    url='http://wettayakorn.com:5000/dengue/send/urls/',\n",
    "    json=data,\n",
    ")\n",
    "respond.json()"
   ]
  },
  {
   "cell_type": "markdown",
   "metadata": {},
   "source": [
    "# Send Base64 Images"
   ]
  },
  {
   "cell_type": "code",
   "execution_count": 39,
   "metadata": {},
   "outputs": [],
   "source": [
    "with open('base64-test-image.txt', 'r') as myfile:\n",
    "    base64_image = myfile.read().replace('\\n', '')"
   ]
  },
  {
   "cell_type": "code",
   "execution_count": 41,
   "metadata": {},
   "outputs": [],
   "source": [
    "with open('image.png', 'wb') as fh:\n",
    "    fh.write(base64.b64decode(base64_image))"
   ]
  },
  {
   "cell_type": "code",
   "execution_count": 32,
   "metadata": {},
   "outputs": [],
   "source": []
  },
  {
   "cell_type": "code",
   "execution_count": null,
   "metadata": {},
   "outputs": [],
   "source": [
    "with open('image.png', 'wb') as fh:\n",
    "    fh.write(base64.b64decode(base64_image))"
   ]
  },
  {
   "cell_type": "code",
   "execution_count": null,
   "metadata": {},
   "outputs": [],
   "source": []
  },
  {
   "cell_type": "code",
   "execution_count": 42,
   "metadata": {},
   "outputs": [
    {
     "data": {
      "text/plain": [
       "{'message': \"Couldn't save image to directory: static/uploads/0813a113-d444-45ea-a140-882402d7666f\",\n",
       " 'status': 'error'}"
      ]
     },
     "execution_count": 42,
     "metadata": {},
     "output_type": "execute_result"
    }
   ],
   "source": [
    "data = {\n",
    "    \"type\": \"Feature\",\n",
    "    \"geometry\": {\n",
    "        \"type\": \"Point\",\n",
    "        \"coordinates\": [100.135, 8.351] # [longitude, latitude]\n",
    "    },\n",
    "    \"properties\": {\n",
    "        \"base64_images\":[\n",
    "            base64_image\n",
    "        ]\n",
    "    }\n",
    "}\n",
    "\n",
    "respond = requests.post(\n",
    "    url='http://wettayakorn.com:5000/dengue/send/base64/',\n",
    "    json=data,\n",
    ")\n",
    "respond.json()"
   ]
  },
  {
   "cell_type": "code",
   "execution_count": null,
   "metadata": {},
   "outputs": [],
   "source": []
  },
  {
   "cell_type": "code",
   "execution_count": null,
   "metadata": {},
   "outputs": [],
   "source": []
  },
  {
   "cell_type": "markdown",
   "metadata": {},
   "source": [
    "## Send Images"
   ]
  },
  {
   "cell_type": "code",
   "execution_count": 44,
   "metadata": {},
   "outputs": [
    {
     "data": {
      "text/plain": [
       "{'message': 'No file part', 'status': 'error'}"
      ]
     },
     "execution_count": 44,
     "metadata": {},
     "output_type": "execute_result"
    }
   ],
   "source": [
    "image_url = 'https://encrypted-tbn0.gstatic.com/images?q=tbn:ANd9GcQIYsiPgOKk7C8c-xsuIz2qJq16hhQSERPxeobpz3iPyVFRSBrp'\n",
    "\n",
    "files = [\n",
    "    ('file', requests.get(image_url).content)\n",
    "]\n",
    "\n",
    "respond = requests.post(\n",
    "    url='http://wettayakorn.com:5000/dengue/upload/images/',\n",
    "    files=files,\n",
    ")\n",
    "respond.json()"
   ]
  }
 ],
 "metadata": {
  "kernelspec": {
   "display_name": "Python 3",
   "language": "python",
   "name": "python3"
  },
  "language_info": {
   "codemirror_mode": {
    "name": "ipython",
    "version": 3
   },
   "file_extension": ".py",
   "mimetype": "text/x-python",
   "name": "python",
   "nbconvert_exporter": "python",
   "pygments_lexer": "ipython3",
   "version": "3.5.2"
  }
 },
 "nbformat": 4,
 "nbformat_minor": 2
}
